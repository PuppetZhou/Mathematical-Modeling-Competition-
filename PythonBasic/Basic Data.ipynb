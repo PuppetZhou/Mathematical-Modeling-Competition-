{
 "cells": [
  {
   "cell_type": "code",
   "execution_count": null,
   "id": "85b0c0d0",
   "metadata": {},
   "outputs": [
    {
     "name": "stdout",
     "output_type": "stream",
     "text": [
      "100\n",
      "1000.0\n",
      "runoob\n",
      "<class 'int'>\n"
     ]
    }
   ],
   "source": [
    "\n",
    "\n",
    "counter = 100          # 整型变量\n",
    "miles   = 1000.0       # 浮点型变量\n",
    "name    = \"runoob\"     # 字符串\n",
    "\n",
    "print (counter)\n",
    "print (miles)\n",
    "print (name)\n",
    "print(type(counter)) # 变量没有类型，变量必须被赋值，变量包含的对象有类型\n",
    "\n"
   ]
  },
  {
   "cell_type": "code",
   "execution_count": null,
   "id": "50a417e2",
   "metadata": {},
   "outputs": [],
   "source": [
    "# 变量定义\n",
    "x = 10          # 整数\n",
    "y = 3.14         # 浮点数\n",
    "name = \"Alice\"   # 字符串\n",
    "is_active = True # 布尔值\n",
    "\n",
    "# 多变量赋值\n",
    "a, b, c = 1, 2, \"three\" #一次性赋值多个变量\n",
    "\n",
    "# 查看数据类型\n",
    "print(type(x))        # <class 'int'>\n",
    "print(type(y))        # <class 'float'>\n",
    "print(type(name))     # <class 'str'>\n",
    "print(type(is_active)) # <class 'bool'>"
   ]
  },
  {
   "cell_type": "code",
   "execution_count": null,
   "id": "9d25ca56",
   "metadata": {},
   "outputs": [
    {
     "name": "stdout",
     "output_type": "stream",
     "text": [
      "True\n",
      "True\n",
      "True\n",
      "True\n"
     ]
    }
   ],
   "source": [
    "# 不可变的3种数据类型：\n",
    "# 1. 数字（int, float） 其中 bool 是 int 的子类\n",
    "# 2. 字符串（str）\n",
    "# 3. 元组（tuple）\n",
    "\n",
    "\n",
    "# 可变的三种数据类型：\n",
    "# 1. 列表（list）\n",
    "# 2. 字典（dict）\n",
    "# 3. 集合（set）\n",
    "\n",
    "# isinstance() 函数 判断数据类型\n",
    "x = 10\n",
    "y = 3.14\n",
    "name = \"Alice\"\n",
    "is_active = True\n",
    "\n",
    "print(isinstance(x, int))    # True\n",
    "print(isinstance(y, float))   # True\n",
    "print(isinstance(name, str))  # True\n",
    "print(isinstance(is_active, bool)) # True"
   ]
  },
  {
   "cell_type": "code",
   "execution_count": 4,
   "id": "bc45fbf5",
   "metadata": {},
   "outputs": [
    {
     "name": "stdout",
     "output_type": "stream",
     "text": [
      "Runoob\n",
      "Runoo\n",
      "R\n",
      "noo\n",
      "noob\n",
      "RunoobRunoob\n",
      "RunoobTEST\n"
     ]
    }
   ],
   "source": [
    "# string\n",
    "\n",
    "\n",
    "\n",
    "str = 'Runoob'  # 定义一个字符串变量\n",
    "\n",
    "print(str)           # 打印整个字符串\n",
    "print(str[0:-1])     # 打印字符串第一个到倒数第二个字符（不包含倒数第一个字符）\n",
    "print(str[0])        # 打印字符串的第一个字符\n",
    "print(str[2:5])      # 打印字符串第三到第五个字符（不包含索引为 5 的字符）\n",
    "print(str[2:])       # 打印字符串从第三个字符开始到末尾\n",
    "print(str * 2)       # 打印字符串两次\n",
    "print(str + \"TEST\")  # 打印字符串和\"TEST\"拼接在一起"
   ]
  },
  {
   "cell_type": "code",
   "execution_count": 5,
   "id": "456c573a",
   "metadata": {},
   "outputs": [
    {
     "name": "stdout",
     "output_type": "stream",
     "text": [
      "<class 'bool'>\n",
      "<class 'bool'>\n",
      "1\n",
      "0\n",
      "False\n",
      "True\n",
      "False\n",
      "True\n",
      "False\n",
      "True\n",
      "False\n",
      "True\n",
      "False\n",
      "True\n",
      "True\n",
      "False\n",
      "This will always print\n",
      "This will also always print\n",
      "x is non-zero and thus True in a boolean context\n"
     ]
    }
   ],
   "source": [
    "# bool \n",
    "# bool 可以将其他类型转换为 bool 值，空则为 False\n",
    "# 布尔类型的值和类型\n",
    "a = True\n",
    "b = False\n",
    "print(type(a))  # <class 'bool'>\n",
    "print(type(b))  # <class 'bool'>\n",
    "\n",
    "# 布尔类型的整数表现\n",
    "print(int(True))   # 1\n",
    "print(int(False))  # 0\n",
    "\n",
    "# 使用 bool() 函数进行转换\n",
    "print(bool(0))         # False\n",
    "print(bool(42))        # True\n",
    "print(bool(''))        # False\n",
    "print(bool('Python'))  # True\n",
    "print(bool([]))        # False\n",
    "print(bool([1, 2, 3])) # True\n",
    "\n",
    "# 布尔逻辑运算\n",
    "print(True and False)  # False\n",
    "print(True or False)   # True\n",
    "print(not True)        # False\n",
    "\n",
    "# 布尔比较运算\n",
    "print(5 > 3)  # True\n",
    "print(2 == 2) # True\n",
    "print(7 < 4)  # False\n",
    "\n",
    "# 布尔值在控制流中的应用\n",
    "if True:\n",
    "    print(\"This will always print\")\n",
    "    \n",
    "if not False:\n",
    "    print(\"This will also always print\")\n",
    "    \n",
    "x = 10\n",
    "if x:\n",
    "    print(\"x is non-zero and thus True in a boolean context\")"
   ]
  },
  {
   "cell_type": "code",
   "execution_count": 6,
   "id": "2507004f",
   "metadata": {},
   "outputs": [
    {
     "name": "stdout",
     "output_type": "stream",
     "text": [
      "['abcd', 786, 2.23, 'runoob', 70.2]\n",
      "abcd\n",
      "[786, 2.23]\n",
      "[2.23, 'runoob', 70.2]\n",
      "[123, 'runoob', 123, 'runoob']\n",
      "['abcd', 786, 2.23, 'runoob', 70.2, 123, 'runoob']\n"
     ]
    }
   ],
   "source": [
    "# List \n",
    "\n",
    "list = [ 'abcd', 786 , 2.23, 'runoob', 70.2 ]  # 定义一个列表\n",
    "tinylist = [123, 'runoob']\n",
    "\n",
    "print (list)            # 打印整个列表\n",
    "print (list[0])         # 打印列表的第一个元素\n",
    "print (list[1:3])       # 打印列表第二到第四个元素（不包含第四个元素）\n",
    "print (list[2:])        # 打印列表从第三个元素开始到末尾\n",
    "print (tinylist * 2)    # 打印tinylist列表两次\n",
    "print (list + tinylist)  # 打印两个列表拼接在一起的结果"
   ]
  },
  {
   "cell_type": "code",
   "execution_count": 8,
   "id": "6575fbdc",
   "metadata": {},
   "outputs": [
    {
     "data": {
      "text/plain": [
       "'World Hello'"
      ]
     },
     "execution_count": 8,
     "metadata": {},
     "output_type": "execute_result"
    }
   ],
   "source": [
    "# practice\n",
    "def reverseWords(input):\n",
    "    words = input.split(' ')# 将输入字符串按空格分割成单词列表\n",
    "    reversed_words = words[-1::-1]# 反转单词列表\n",
    "    return ' '.join(reversed_words)# 将反转后的单词列表重新拼接成字符串\n",
    "\n",
    "reverseWords(\"Hello World\")"
   ]
  },
  {
   "cell_type": "code",
   "execution_count": null,
   "id": "f4aa59ef",
   "metadata": {},
   "outputs": [
    {
     "name": "stdout",
     "output_type": "stream",
     "text": [
      "('abcd', 786, 2.23, 'runoob', 70.2)\n",
      "abcd\n",
      "(786, 2.23)\n",
      "(2.23, 'runoob', 70.2)\n",
      "(123, 'runoob', 123, 'runoob')\n",
      "('abcd', 786, 2.23, 'runoob', 70.2, 123, 'runoob')\n"
     ]
    }
   ],
   "source": [
    "# Tuple\n",
    "\n",
    "tuple = ( 'abcd', 786 , 2.23, 'runoob', 70.2  )\n",
    "tinytuple = (123, 'runoob')\n",
    "\n",
    "print (tuple)             # 输出完整元组\n",
    "print (tuple[0])          # 输出元组的第一个元素\n",
    "print (tuple[1:3])        # 输出从第二个元素开始到第三个元素\n",
    "print (tuple[2:])         # 输出从第三个元素开始的所有元素\n",
    "print (tinytuple * 2)     # 输出两次元组\n",
    "print (tuple + tinytuple) # 连接元组\n",
    "\n",
    "tup1 =()\n",
    "tup2 =(1,)# 单元素元组需要加一个逗号"
   ]
  },
  {
   "cell_type": "code",
   "execution_count": 10,
   "id": "6fe45195",
   "metadata": {},
   "outputs": [
    {
     "name": "stdout",
     "output_type": "stream",
     "text": [
      "{'Runoob', 'Facebook', 'Google', 'Taobao', 'Zhihu', 'Baidu'}\n",
      "Runoob 在集合中\n",
      "{'c', 'r', 'd', 'a', 'b'}\n",
      "{'d', 'r', 'b'}\n",
      "{'c', 'r', 'd', 'z', 'a', 'm', 'l', 'b'}\n",
      "{'c', 'a'}\n",
      "{'r', 'm', 'b', 'd', 'z', 'l'}\n"
     ]
    }
   ],
   "source": [
    "\n",
    "\n",
    "sites = {'Google', 'Taobao', 'Runoob', 'Facebook', 'Zhihu', 'Baidu'}\n",
    "\n",
    "print(sites)   # 输出集合，重复的元素被自动去掉\n",
    "\n",
    "# 成员测试\n",
    "if 'Runoob' in sites :\n",
    "    print('Runoob 在集合中')\n",
    "else :\n",
    "    print('Runoob 不在集合中')\n",
    "\n",
    "\n",
    "# set可以进行集合运算\n",
    "a = set('abracadabra')\n",
    "b = set('alacazam')\n",
    "\n",
    "print(a)\n",
    "\n",
    "print(a - b)     # a 和 b 的差集\n",
    "\n",
    "print(a | b)     # a 和 b 的并集\n",
    "\n",
    "print(a & b)     # a 和 b 的交集\n",
    "\n",
    "print(a ^ b)     # a 和 b 中不同时存在的元素"
   ]
  },
  {
   "cell_type": "code",
   "execution_count": 11,
   "id": "c8694988",
   "metadata": {},
   "outputs": [
    {
     "name": "stdout",
     "output_type": "stream",
     "text": [
      "1 - 菜鸟教程\n",
      "2 - 菜鸟工具\n",
      "{'name': 'runoob', 'code': 1, 'site': 'www.runoob.com'}\n",
      "dict_keys(['name', 'code', 'site'])\n",
      "dict_values(['runoob', 1, 'www.runoob.com'])\n"
     ]
    }
   ],
   "source": [
    "\n",
    "\n",
    "dict = {}\n",
    "dict['one'] = \"1 - 菜鸟教程\"\n",
    "dict[2]     = \"2 - 菜鸟工具\"\n",
    "\n",
    "tinydict = {'name': 'runoob','code':1, 'site': 'www.runoob.com'}\n",
    "\n",
    "\n",
    "print (dict['one'])       # 输出键为 'one' 的值\n",
    "print (dict[2])           # 输出键为 2 的值\n",
    "print (tinydict)          # 输出完整的字典\n",
    "print (tinydict.keys())   # 输出所有键\n",
    "print (tinydict.values()) # 输出所有值"
   ]
  }
 ],
 "metadata": {
  "kernelspec": {
   "display_name": "modeling",
   "language": "python",
   "name": "python3"
  },
  "language_info": {
   "codemirror_mode": {
    "name": "ipython",
    "version": 3
   },
   "file_extension": ".py",
   "mimetype": "text/x-python",
   "name": "python",
   "nbconvert_exporter": "python",
   "pygments_lexer": "ipython3",
   "version": "3.10.18"
  }
 },
 "nbformat": 4,
 "nbformat_minor": 5
}
