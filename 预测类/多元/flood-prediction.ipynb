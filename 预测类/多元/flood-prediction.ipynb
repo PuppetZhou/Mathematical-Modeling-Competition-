{
 "cells": [
  {
   "cell_type": "code",
   "execution_count": 44,
   "metadata": {
    "_cell_guid": "b1076dfc-b9ad-4769-8c92-a6c4dae69d19",
    "_uuid": "8f2839f25d086af736a60e9eeb907d3b93b6e0e5",
    "execution": {
     "iopub.execute_input": "2025-07-12T05:37:35.916700Z",
     "iopub.status.busy": "2025-07-12T05:37:35.916336Z",
     "iopub.status.idle": "2025-07-12T05:37:36.262149Z",
     "shell.execute_reply": "2025-07-12T05:37:36.261125Z",
     "shell.execute_reply.started": "2025-07-12T05:37:35.916663Z"
    }
   },
   "outputs": [
    {
     "name": "stdout",
     "output_type": "stream",
     "text": [
      "./input/sample_submission.csv\n",
      "./input/test.csv\n",
      "./input/train.csv\n"
     ]
    }
   ],
   "source": [
    "import numpy as np # \n",
    "import pandas as pd # 数据处理, CSV file I/O (e.g. pd.read_csv)\n",
    "\n",
    "# 从input文件夹读入数据\n",
    "import os\n",
    "for dirname, _, filenames in os.walk('./input/'):\n",
    "    for filename in filenames:\n",
    "        print(os.path.join(dirname, filename))"
   ]
  },
  {
   "cell_type": "code",
   "execution_count": 45,
   "metadata": {
    "execution": {
     "iopub.execute_input": "2025-07-12T05:37:36.265449Z",
     "iopub.status.busy": "2025-07-12T05:37:36.264855Z",
     "iopub.status.idle": "2025-07-12T05:37:38.735221Z",
     "shell.execute_reply": "2025-07-12T05:37:38.734413Z",
     "shell.execute_reply.started": "2025-07-12T05:37:36.265410Z"
    }
   },
   "outputs": [],
   "source": [
    "import pandas as pd\n",
    "df=pd.read_csv('./input/train.csv')\n",
    "test_df = pd.read_csv('./input/test.csv')"
   ]
  },
  {
   "cell_type": "code",
   "execution_count": 46,
   "metadata": {
    "execution": {
     "iopub.execute_input": "2025-07-12T05:37:38.736702Z",
     "iopub.status.busy": "2025-07-12T05:37:38.736322Z",
     "iopub.status.idle": "2025-07-12T05:37:39.500656Z",
     "shell.execute_reply": "2025-07-12T05:37:39.499897Z",
     "shell.execute_reply.started": "2025-07-12T05:37:38.736669Z"
    }
   },
   "outputs": [
    {
     "data": {
      "text/html": [
       "<div>\n",
       "<style scoped>\n",
       "    .dataframe tbody tr th:only-of-type {\n",
       "        vertical-align: middle;\n",
       "    }\n",
       "\n",
       "    .dataframe tbody tr th {\n",
       "        vertical-align: top;\n",
       "    }\n",
       "\n",
       "    .dataframe thead th {\n",
       "        text-align: right;\n",
       "    }\n",
       "</style>\n",
       "<table border=\"1\" class=\"dataframe\">\n",
       "  <thead>\n",
       "    <tr style=\"text-align: right;\">\n",
       "      <th></th>\n",
       "      <th>count</th>\n",
       "      <th>mean</th>\n",
       "      <th>std</th>\n",
       "      <th>min</th>\n",
       "      <th>25%</th>\n",
       "      <th>50%</th>\n",
       "      <th>75%</th>\n",
       "      <th>max</th>\n",
       "    </tr>\n",
       "  </thead>\n",
       "  <tbody>\n",
       "    <tr>\n",
       "      <th>id</th>\n",
       "      <td>1117957.0</td>\n",
       "      <td>558978.000000</td>\n",
       "      <td>322726.531782</td>\n",
       "      <td>0.000</td>\n",
       "      <td>279489.00</td>\n",
       "      <td>558978.000</td>\n",
       "      <td>838467.00</td>\n",
       "      <td>1117956.000</td>\n",
       "    </tr>\n",
       "    <tr>\n",
       "      <th>MonsoonIntensity</th>\n",
       "      <td>1117957.0</td>\n",
       "      <td>4.921450</td>\n",
       "      <td>2.056387</td>\n",
       "      <td>0.000</td>\n",
       "      <td>3.00</td>\n",
       "      <td>5.000</td>\n",
       "      <td>6.00</td>\n",
       "      <td>16.000</td>\n",
       "    </tr>\n",
       "    <tr>\n",
       "      <th>TopographyDrainage</th>\n",
       "      <td>1117957.0</td>\n",
       "      <td>4.926671</td>\n",
       "      <td>2.093879</td>\n",
       "      <td>0.000</td>\n",
       "      <td>3.00</td>\n",
       "      <td>5.000</td>\n",
       "      <td>6.00</td>\n",
       "      <td>18.000</td>\n",
       "    </tr>\n",
       "    <tr>\n",
       "      <th>RiverManagement</th>\n",
       "      <td>1117957.0</td>\n",
       "      <td>4.955322</td>\n",
       "      <td>2.072186</td>\n",
       "      <td>0.000</td>\n",
       "      <td>4.00</td>\n",
       "      <td>5.000</td>\n",
       "      <td>6.00</td>\n",
       "      <td>16.000</td>\n",
       "    </tr>\n",
       "    <tr>\n",
       "      <th>Deforestation</th>\n",
       "      <td>1117957.0</td>\n",
       "      <td>4.942240</td>\n",
       "      <td>2.051689</td>\n",
       "      <td>0.000</td>\n",
       "      <td>4.00</td>\n",
       "      <td>5.000</td>\n",
       "      <td>6.00</td>\n",
       "      <td>17.000</td>\n",
       "    </tr>\n",
       "    <tr>\n",
       "      <th>Urbanization</th>\n",
       "      <td>1117957.0</td>\n",
       "      <td>4.942517</td>\n",
       "      <td>2.083391</td>\n",
       "      <td>0.000</td>\n",
       "      <td>3.00</td>\n",
       "      <td>5.000</td>\n",
       "      <td>6.00</td>\n",
       "      <td>17.000</td>\n",
       "    </tr>\n",
       "    <tr>\n",
       "      <th>ClimateChange</th>\n",
       "      <td>1117957.0</td>\n",
       "      <td>4.934093</td>\n",
       "      <td>2.057742</td>\n",
       "      <td>0.000</td>\n",
       "      <td>3.00</td>\n",
       "      <td>5.000</td>\n",
       "      <td>6.00</td>\n",
       "      <td>17.000</td>\n",
       "    </tr>\n",
       "    <tr>\n",
       "      <th>DamsQuality</th>\n",
       "      <td>1117957.0</td>\n",
       "      <td>4.955878</td>\n",
       "      <td>2.083063</td>\n",
       "      <td>0.000</td>\n",
       "      <td>4.00</td>\n",
       "      <td>5.000</td>\n",
       "      <td>6.00</td>\n",
       "      <td>16.000</td>\n",
       "    </tr>\n",
       "    <tr>\n",
       "      <th>Siltation</th>\n",
       "      <td>1117957.0</td>\n",
       "      <td>4.927791</td>\n",
       "      <td>2.065992</td>\n",
       "      <td>0.000</td>\n",
       "      <td>3.00</td>\n",
       "      <td>5.000</td>\n",
       "      <td>6.00</td>\n",
       "      <td>16.000</td>\n",
       "    </tr>\n",
       "    <tr>\n",
       "      <th>AgriculturalPractices</th>\n",
       "      <td>1117957.0</td>\n",
       "      <td>4.942619</td>\n",
       "      <td>2.068545</td>\n",
       "      <td>0.000</td>\n",
       "      <td>3.00</td>\n",
       "      <td>5.000</td>\n",
       "      <td>6.00</td>\n",
       "      <td>16.000</td>\n",
       "    </tr>\n",
       "    <tr>\n",
       "      <th>Encroachments</th>\n",
       "      <td>1117957.0</td>\n",
       "      <td>4.949230</td>\n",
       "      <td>2.083324</td>\n",
       "      <td>0.000</td>\n",
       "      <td>4.00</td>\n",
       "      <td>5.000</td>\n",
       "      <td>6.00</td>\n",
       "      <td>18.000</td>\n",
       "    </tr>\n",
       "    <tr>\n",
       "      <th>IneffectiveDisasterPreparedness</th>\n",
       "      <td>1117957.0</td>\n",
       "      <td>4.945239</td>\n",
       "      <td>2.078141</td>\n",
       "      <td>0.000</td>\n",
       "      <td>3.00</td>\n",
       "      <td>5.000</td>\n",
       "      <td>6.00</td>\n",
       "      <td>16.000</td>\n",
       "    </tr>\n",
       "    <tr>\n",
       "      <th>DrainageSystems</th>\n",
       "      <td>1117957.0</td>\n",
       "      <td>4.946893</td>\n",
       "      <td>2.072333</td>\n",
       "      <td>0.000</td>\n",
       "      <td>4.00</td>\n",
       "      <td>5.000</td>\n",
       "      <td>6.00</td>\n",
       "      <td>17.000</td>\n",
       "    </tr>\n",
       "    <tr>\n",
       "      <th>CoastalVulnerability</th>\n",
       "      <td>1117957.0</td>\n",
       "      <td>4.953999</td>\n",
       "      <td>2.088899</td>\n",
       "      <td>0.000</td>\n",
       "      <td>3.00</td>\n",
       "      <td>5.000</td>\n",
       "      <td>6.00</td>\n",
       "      <td>17.000</td>\n",
       "    </tr>\n",
       "    <tr>\n",
       "      <th>Landslides</th>\n",
       "      <td>1117957.0</td>\n",
       "      <td>4.931376</td>\n",
       "      <td>2.078287</td>\n",
       "      <td>0.000</td>\n",
       "      <td>3.00</td>\n",
       "      <td>5.000</td>\n",
       "      <td>6.00</td>\n",
       "      <td>16.000</td>\n",
       "    </tr>\n",
       "    <tr>\n",
       "      <th>Watersheds</th>\n",
       "      <td>1117957.0</td>\n",
       "      <td>4.929032</td>\n",
       "      <td>2.082395</td>\n",
       "      <td>0.000</td>\n",
       "      <td>3.00</td>\n",
       "      <td>5.000</td>\n",
       "      <td>6.00</td>\n",
       "      <td>16.000</td>\n",
       "    </tr>\n",
       "    <tr>\n",
       "      <th>DeterioratingInfrastructure</th>\n",
       "      <td>1117957.0</td>\n",
       "      <td>4.925907</td>\n",
       "      <td>2.064813</td>\n",
       "      <td>0.000</td>\n",
       "      <td>3.00</td>\n",
       "      <td>5.000</td>\n",
       "      <td>6.00</td>\n",
       "      <td>17.000</td>\n",
       "    </tr>\n",
       "    <tr>\n",
       "      <th>PopulationScore</th>\n",
       "      <td>1117957.0</td>\n",
       "      <td>4.927520</td>\n",
       "      <td>2.074176</td>\n",
       "      <td>0.000</td>\n",
       "      <td>3.00</td>\n",
       "      <td>5.000</td>\n",
       "      <td>6.00</td>\n",
       "      <td>18.000</td>\n",
       "    </tr>\n",
       "    <tr>\n",
       "      <th>WetlandLoss</th>\n",
       "      <td>1117957.0</td>\n",
       "      <td>4.950859</td>\n",
       "      <td>2.068696</td>\n",
       "      <td>0.000</td>\n",
       "      <td>4.00</td>\n",
       "      <td>5.000</td>\n",
       "      <td>6.00</td>\n",
       "      <td>19.000</td>\n",
       "    </tr>\n",
       "    <tr>\n",
       "      <th>InadequatePlanning</th>\n",
       "      <td>1117957.0</td>\n",
       "      <td>4.940587</td>\n",
       "      <td>2.081123</td>\n",
       "      <td>0.000</td>\n",
       "      <td>3.00</td>\n",
       "      <td>5.000</td>\n",
       "      <td>6.00</td>\n",
       "      <td>16.000</td>\n",
       "    </tr>\n",
       "    <tr>\n",
       "      <th>PoliticalFactors</th>\n",
       "      <td>1117957.0</td>\n",
       "      <td>4.939004</td>\n",
       "      <td>2.090350</td>\n",
       "      <td>0.000</td>\n",
       "      <td>3.00</td>\n",
       "      <td>5.000</td>\n",
       "      <td>6.00</td>\n",
       "      <td>16.000</td>\n",
       "    </tr>\n",
       "    <tr>\n",
       "      <th>FloodProbability</th>\n",
       "      <td>1117957.0</td>\n",
       "      <td>0.504480</td>\n",
       "      <td>0.051026</td>\n",
       "      <td>0.285</td>\n",
       "      <td>0.47</td>\n",
       "      <td>0.505</td>\n",
       "      <td>0.54</td>\n",
       "      <td>0.725</td>\n",
       "    </tr>\n",
       "  </tbody>\n",
       "</table>\n",
       "</div>"
      ],
      "text/plain": [
       "                                     count           mean            std  \\\n",
       "id                               1117957.0  558978.000000  322726.531782   \n",
       "MonsoonIntensity                 1117957.0       4.921450       2.056387   \n",
       "TopographyDrainage               1117957.0       4.926671       2.093879   \n",
       "RiverManagement                  1117957.0       4.955322       2.072186   \n",
       "Deforestation                    1117957.0       4.942240       2.051689   \n",
       "Urbanization                     1117957.0       4.942517       2.083391   \n",
       "ClimateChange                    1117957.0       4.934093       2.057742   \n",
       "DamsQuality                      1117957.0       4.955878       2.083063   \n",
       "Siltation                        1117957.0       4.927791       2.065992   \n",
       "AgriculturalPractices            1117957.0       4.942619       2.068545   \n",
       "Encroachments                    1117957.0       4.949230       2.083324   \n",
       "IneffectiveDisasterPreparedness  1117957.0       4.945239       2.078141   \n",
       "DrainageSystems                  1117957.0       4.946893       2.072333   \n",
       "CoastalVulnerability             1117957.0       4.953999       2.088899   \n",
       "Landslides                       1117957.0       4.931376       2.078287   \n",
       "Watersheds                       1117957.0       4.929032       2.082395   \n",
       "DeterioratingInfrastructure      1117957.0       4.925907       2.064813   \n",
       "PopulationScore                  1117957.0       4.927520       2.074176   \n",
       "WetlandLoss                      1117957.0       4.950859       2.068696   \n",
       "InadequatePlanning               1117957.0       4.940587       2.081123   \n",
       "PoliticalFactors                 1117957.0       4.939004       2.090350   \n",
       "FloodProbability                 1117957.0       0.504480       0.051026   \n",
       "\n",
       "                                   min        25%         50%        75%  \\\n",
       "id                               0.000  279489.00  558978.000  838467.00   \n",
       "MonsoonIntensity                 0.000       3.00       5.000       6.00   \n",
       "TopographyDrainage               0.000       3.00       5.000       6.00   \n",
       "RiverManagement                  0.000       4.00       5.000       6.00   \n",
       "Deforestation                    0.000       4.00       5.000       6.00   \n",
       "Urbanization                     0.000       3.00       5.000       6.00   \n",
       "ClimateChange                    0.000       3.00       5.000       6.00   \n",
       "DamsQuality                      0.000       4.00       5.000       6.00   \n",
       "Siltation                        0.000       3.00       5.000       6.00   \n",
       "AgriculturalPractices            0.000       3.00       5.000       6.00   \n",
       "Encroachments                    0.000       4.00       5.000       6.00   \n",
       "IneffectiveDisasterPreparedness  0.000       3.00       5.000       6.00   \n",
       "DrainageSystems                  0.000       4.00       5.000       6.00   \n",
       "CoastalVulnerability             0.000       3.00       5.000       6.00   \n",
       "Landslides                       0.000       3.00       5.000       6.00   \n",
       "Watersheds                       0.000       3.00       5.000       6.00   \n",
       "DeterioratingInfrastructure      0.000       3.00       5.000       6.00   \n",
       "PopulationScore                  0.000       3.00       5.000       6.00   \n",
       "WetlandLoss                      0.000       4.00       5.000       6.00   \n",
       "InadequatePlanning               0.000       3.00       5.000       6.00   \n",
       "PoliticalFactors                 0.000       3.00       5.000       6.00   \n",
       "FloodProbability                 0.285       0.47       0.505       0.54   \n",
       "\n",
       "                                         max  \n",
       "id                               1117956.000  \n",
       "MonsoonIntensity                      16.000  \n",
       "TopographyDrainage                    18.000  \n",
       "RiverManagement                       16.000  \n",
       "Deforestation                         17.000  \n",
       "Urbanization                          17.000  \n",
       "ClimateChange                         17.000  \n",
       "DamsQuality                           16.000  \n",
       "Siltation                             16.000  \n",
       "AgriculturalPractices                 16.000  \n",
       "Encroachments                         18.000  \n",
       "IneffectiveDisasterPreparedness       16.000  \n",
       "DrainageSystems                       17.000  \n",
       "CoastalVulnerability                  17.000  \n",
       "Landslides                            16.000  \n",
       "Watersheds                            16.000  \n",
       "DeterioratingInfrastructure           17.000  \n",
       "PopulationScore                       18.000  \n",
       "WetlandLoss                           19.000  \n",
       "InadequatePlanning                    16.000  \n",
       "PoliticalFactors                      16.000  \n",
       "FloodProbability                       0.725  "
      ]
     },
     "execution_count": 46,
     "metadata": {},
     "output_type": "execute_result"
    }
   ],
   "source": [
    "df.describe().T"
   ]
  },
  {
   "cell_type": "code",
   "execution_count": 47,
   "metadata": {
    "execution": {
     "iopub.execute_input": "2025-07-12T05:37:39.501774Z",
     "iopub.status.busy": "2025-07-12T05:37:39.501546Z",
     "iopub.status.idle": "2025-07-12T05:37:39.518035Z",
     "shell.execute_reply": "2025-07-12T05:37:39.517243Z",
     "shell.execute_reply.started": "2025-07-12T05:37:39.501756Z"
    }
   },
   "outputs": [
    {
     "data": {
      "text/html": [
       "<div>\n",
       "<style scoped>\n",
       "    .dataframe tbody tr th:only-of-type {\n",
       "        vertical-align: middle;\n",
       "    }\n",
       "\n",
       "    .dataframe tbody tr th {\n",
       "        vertical-align: top;\n",
       "    }\n",
       "\n",
       "    .dataframe thead th {\n",
       "        text-align: right;\n",
       "    }\n",
       "</style>\n",
       "<table border=\"1\" class=\"dataframe\">\n",
       "  <thead>\n",
       "    <tr style=\"text-align: right;\">\n",
       "      <th></th>\n",
       "      <th>id</th>\n",
       "      <th>MonsoonIntensity</th>\n",
       "      <th>TopographyDrainage</th>\n",
       "      <th>RiverManagement</th>\n",
       "      <th>Deforestation</th>\n",
       "      <th>Urbanization</th>\n",
       "      <th>ClimateChange</th>\n",
       "      <th>DamsQuality</th>\n",
       "      <th>Siltation</th>\n",
       "      <th>AgriculturalPractices</th>\n",
       "      <th>...</th>\n",
       "      <th>DrainageSystems</th>\n",
       "      <th>CoastalVulnerability</th>\n",
       "      <th>Landslides</th>\n",
       "      <th>Watersheds</th>\n",
       "      <th>DeterioratingInfrastructure</th>\n",
       "      <th>PopulationScore</th>\n",
       "      <th>WetlandLoss</th>\n",
       "      <th>InadequatePlanning</th>\n",
       "      <th>PoliticalFactors</th>\n",
       "      <th>FloodProbability</th>\n",
       "    </tr>\n",
       "  </thead>\n",
       "  <tbody>\n",
       "    <tr>\n",
       "      <th>0</th>\n",
       "      <td>0</td>\n",
       "      <td>5</td>\n",
       "      <td>8</td>\n",
       "      <td>5</td>\n",
       "      <td>8</td>\n",
       "      <td>6</td>\n",
       "      <td>4</td>\n",
       "      <td>4</td>\n",
       "      <td>3</td>\n",
       "      <td>3</td>\n",
       "      <td>...</td>\n",
       "      <td>5</td>\n",
       "      <td>3</td>\n",
       "      <td>3</td>\n",
       "      <td>5</td>\n",
       "      <td>4</td>\n",
       "      <td>7</td>\n",
       "      <td>5</td>\n",
       "      <td>7</td>\n",
       "      <td>3</td>\n",
       "      <td>0.445</td>\n",
       "    </tr>\n",
       "    <tr>\n",
       "      <th>1</th>\n",
       "      <td>1</td>\n",
       "      <td>6</td>\n",
       "      <td>7</td>\n",
       "      <td>4</td>\n",
       "      <td>4</td>\n",
       "      <td>8</td>\n",
       "      <td>8</td>\n",
       "      <td>3</td>\n",
       "      <td>5</td>\n",
       "      <td>4</td>\n",
       "      <td>...</td>\n",
       "      <td>7</td>\n",
       "      <td>2</td>\n",
       "      <td>0</td>\n",
       "      <td>3</td>\n",
       "      <td>5</td>\n",
       "      <td>3</td>\n",
       "      <td>3</td>\n",
       "      <td>4</td>\n",
       "      <td>3</td>\n",
       "      <td>0.450</td>\n",
       "    </tr>\n",
       "    <tr>\n",
       "      <th>2</th>\n",
       "      <td>2</td>\n",
       "      <td>6</td>\n",
       "      <td>5</td>\n",
       "      <td>6</td>\n",
       "      <td>7</td>\n",
       "      <td>3</td>\n",
       "      <td>7</td>\n",
       "      <td>1</td>\n",
       "      <td>5</td>\n",
       "      <td>4</td>\n",
       "      <td>...</td>\n",
       "      <td>7</td>\n",
       "      <td>3</td>\n",
       "      <td>7</td>\n",
       "      <td>5</td>\n",
       "      <td>6</td>\n",
       "      <td>8</td>\n",
       "      <td>2</td>\n",
       "      <td>3</td>\n",
       "      <td>3</td>\n",
       "      <td>0.530</td>\n",
       "    </tr>\n",
       "    <tr>\n",
       "      <th>3</th>\n",
       "      <td>3</td>\n",
       "      <td>3</td>\n",
       "      <td>4</td>\n",
       "      <td>6</td>\n",
       "      <td>5</td>\n",
       "      <td>4</td>\n",
       "      <td>8</td>\n",
       "      <td>4</td>\n",
       "      <td>7</td>\n",
       "      <td>6</td>\n",
       "      <td>...</td>\n",
       "      <td>2</td>\n",
       "      <td>4</td>\n",
       "      <td>7</td>\n",
       "      <td>4</td>\n",
       "      <td>4</td>\n",
       "      <td>6</td>\n",
       "      <td>5</td>\n",
       "      <td>7</td>\n",
       "      <td>5</td>\n",
       "      <td>0.535</td>\n",
       "    </tr>\n",
       "    <tr>\n",
       "      <th>4</th>\n",
       "      <td>4</td>\n",
       "      <td>5</td>\n",
       "      <td>3</td>\n",
       "      <td>2</td>\n",
       "      <td>6</td>\n",
       "      <td>4</td>\n",
       "      <td>4</td>\n",
       "      <td>3</td>\n",
       "      <td>3</td>\n",
       "      <td>3</td>\n",
       "      <td>...</td>\n",
       "      <td>2</td>\n",
       "      <td>2</td>\n",
       "      <td>6</td>\n",
       "      <td>6</td>\n",
       "      <td>4</td>\n",
       "      <td>1</td>\n",
       "      <td>2</td>\n",
       "      <td>3</td>\n",
       "      <td>5</td>\n",
       "      <td>0.415</td>\n",
       "    </tr>\n",
       "  </tbody>\n",
       "</table>\n",
       "<p>5 rows × 22 columns</p>\n",
       "</div>"
      ],
      "text/plain": [
       "   id  MonsoonIntensity  TopographyDrainage  RiverManagement  Deforestation  \\\n",
       "0   0                 5                   8                5              8   \n",
       "1   1                 6                   7                4              4   \n",
       "2   2                 6                   5                6              7   \n",
       "3   3                 3                   4                6              5   \n",
       "4   4                 5                   3                2              6   \n",
       "\n",
       "   Urbanization  ClimateChange  DamsQuality  Siltation  AgriculturalPractices  \\\n",
       "0             6              4            4          3                      3   \n",
       "1             8              8            3          5                      4   \n",
       "2             3              7            1          5                      4   \n",
       "3             4              8            4          7                      6   \n",
       "4             4              4            3          3                      3   \n",
       "\n",
       "   ...  DrainageSystems  CoastalVulnerability  Landslides  Watersheds  \\\n",
       "0  ...                5                     3           3           5   \n",
       "1  ...                7                     2           0           3   \n",
       "2  ...                7                     3           7           5   \n",
       "3  ...                2                     4           7           4   \n",
       "4  ...                2                     2           6           6   \n",
       "\n",
       "   DeterioratingInfrastructure  PopulationScore  WetlandLoss  \\\n",
       "0                            4                7            5   \n",
       "1                            5                3            3   \n",
       "2                            6                8            2   \n",
       "3                            4                6            5   \n",
       "4                            4                1            2   \n",
       "\n",
       "   InadequatePlanning  PoliticalFactors  FloodProbability  \n",
       "0                   7                 3             0.445  \n",
       "1                   4                 3             0.450  \n",
       "2                   3                 3             0.530  \n",
       "3                   7                 5             0.535  \n",
       "4                   3                 5             0.415  \n",
       "\n",
       "[5 rows x 22 columns]"
      ]
     },
     "execution_count": 47,
     "metadata": {},
     "output_type": "execute_result"
    }
   ],
   "source": [
    "df.head()"
   ]
  },
  {
   "cell_type": "code",
   "execution_count": 48,
   "metadata": {
    "execution": {
     "iopub.execute_input": "2025-07-12T05:37:39.519235Z",
     "iopub.status.busy": "2025-07-12T05:37:39.519010Z",
     "iopub.status.idle": "2025-07-12T05:37:39.528735Z",
     "shell.execute_reply": "2025-07-12T05:37:39.527834Z",
     "shell.execute_reply.started": "2025-07-12T05:37:39.519218Z"
    }
   },
   "outputs": [
    {
     "name": "stdout",
     "output_type": "stream",
     "text": [
      "Index(['id', 'MonsoonIntensity', 'TopographyDrainage', 'RiverManagement',\n",
      "       'Deforestation', 'Urbanization', 'ClimateChange', 'DamsQuality',\n",
      "       'Siltation', 'AgriculturalPractices', 'Encroachments',\n",
      "       'IneffectiveDisasterPreparedness', 'DrainageSystems',\n",
      "       'CoastalVulnerability', 'Landslides', 'Watersheds',\n",
      "       'DeterioratingInfrastructure', 'PopulationScore', 'WetlandLoss',\n",
      "       'InadequatePlanning', 'PoliticalFactors', 'FloodProbability'],\n",
      "      dtype='object')\n",
      "Index(['id', 'MonsoonIntensity', 'TopographyDrainage', 'RiverManagement',\n",
      "       'Deforestation', 'Urbanization', 'ClimateChange', 'DamsQuality',\n",
      "       'Siltation', 'AgriculturalPractices', 'Encroachments',\n",
      "       'IneffectiveDisasterPreparedness', 'DrainageSystems',\n",
      "       'CoastalVulnerability', 'Landslides', 'Watersheds',\n",
      "       'DeterioratingInfrastructure', 'PopulationScore', 'WetlandLoss',\n",
      "       'InadequatePlanning', 'PoliticalFactors'],\n",
      "      dtype='object')\n"
     ]
    }
   ],
   "source": [
    "#print(df.isnull().sum())\n",
    "len(df)\n",
    "print(df.columns)\n",
    "print(test_df.columns)"
   ]
  },
  {
   "cell_type": "code",
   "execution_count": 49,
   "metadata": {
    "execution": {
     "iopub.execute_input": "2025-07-12T05:37:39.530593Z",
     "iopub.status.busy": "2025-07-12T05:37:39.530082Z",
     "iopub.status.idle": "2025-07-12T05:37:39.765088Z",
     "shell.execute_reply": "2025-07-12T05:37:39.764201Z",
     "shell.execute_reply.started": "2025-07-12T05:37:39.530555Z"
    }
   },
   "outputs": [
    {
     "data": {
      "text/plain": [
       "<Axes: xlabel='FloodProbability'>"
      ]
     },
     "execution_count": 49,
     "metadata": {},
     "output_type": "execute_result"
    },
    {
     "data": {
      "image/png": "[encoded data removed]",
      "text/plain": [
       "<Figure size 640x480 with 1 Axes>"
      ]
     },
     "metadata": {},
     "output_type": "display_data"
    }
   ],
   "source": [
    "df['FloodProbability'].value_counts().plot()"
   ]
  },
  {
   "cell_type": "code",
   "execution_count": 50,
   "metadata": {
    "execution": {
     "iopub.execute_input": "2025-07-12T05:37:39.768165Z",
     "iopub.status.busy": "2025-07-12T05:37:39.767918Z",
     "iopub.status.idle": "2025-07-12T05:37:47.066946Z",
     "shell.execute_reply": "2025-07-12T05:37:47.066009Z",
     "shell.execute_reply.started": "2025-07-12T05:37:39.768137Z"
    }
   },
   "outputs": [
    {
     "data": {
      "text/plain": [
       "<seaborn.axisgrid.FacetGrid at 0x198401675f0>"
      ]
     },
     "execution_count": 50,
     "metadata": {},
     "output_type": "execute_result"
    },
    {
     "data": {
      "image/png": "[encoded data removed]",
      "text/plain": [
       "<Figure size 511.111x500 with 1 Axes>"
      ]
     },
     "metadata": {},
     "output_type": "display_data"
    }
   ],
   "source": [
    "import seaborn as sns\n",
    "sns.catplot(x='MonsoonIntensity',y='FloodProbability',data=df, kind='point')"
   ]
  },
  {
   "cell_type": "code",
   "execution_count": 51,
   "metadata": {
    "execution": {
     "iopub.execute_input": "2025-07-12T05:37:47.068365Z",
     "iopub.status.busy": "2025-07-12T05:37:47.068104Z",
     "iopub.status.idle": "2025-07-12T05:37:47.072516Z",
     "shell.execute_reply": "2025-07-12T05:37:47.071669Z",
     "shell.execute_reply.started": "2025-07-12T05:37:47.068346Z"
    }
   },
   "outputs": [],
   "source": [
    "#sns.catplot(x='TopographyDrainage',y='FloodProbability',data=df, kind='point')"
   ]
  },
  {
   "cell_type": "code",
   "execution_count": 52,
   "metadata": {
    "execution": {
     "iopub.execute_input": "2025-07-12T05:37:47.073841Z",
     "iopub.status.busy": "2025-07-12T05:37:47.073570Z",
     "iopub.status.idle": "2025-07-12T05:37:47.081239Z",
     "shell.execute_reply": "2025-07-12T05:37:47.080447Z",
     "shell.execute_reply.started": "2025-07-12T05:37:47.073819Z"
    }
   },
   "outputs": [],
   "source": [
    "#sns.catplot(x='RiverManagement',y='FloodProbability',data=df, kind='point')"
   ]
  },
  {
   "cell_type": "code",
   "execution_count": 53,
   "metadata": {
    "execution": {
     "iopub.execute_input": "2025-07-12T05:37:47.082515Z",
     "iopub.status.busy": "2025-07-12T05:37:47.082281Z",
     "iopub.status.idle": "2025-07-12T05:37:47.090372Z",
     "shell.execute_reply": "2025-07-12T05:37:47.089620Z",
     "shell.execute_reply.started": "2025-07-12T05:37:47.082496Z"
    }
   },
   "outputs": [],
   "source": [
    "#sns.catplot(x='Urbanization',y='FloodProbability',data=df, kind='point')"
   ]
  },
  {
   "cell_type": "code",
   "execution_count": 54,
   "metadata": {
    "execution": {
     "iopub.execute_input": "2025-07-12T05:37:47.091650Z",
     "iopub.status.busy": "2025-07-12T05:37:47.091431Z",
     "iopub.status.idle": "2025-07-12T05:37:47.099231Z",
     "shell.execute_reply": "2025-07-12T05:37:47.098487Z",
     "shell.execute_reply.started": "2025-07-12T05:37:47.091632Z"
    }
   },
   "outputs": [],
   "source": [
    "#sns.catplot(x='ClimateChange',y='FloodProbability',data=df, kind='point')"
   ]
  },
  {
   "cell_type": "code",
   "execution_count": 55,
   "metadata": {
    "execution": {
     "iopub.execute_input": "2025-07-12T05:37:47.100913Z",
     "iopub.status.busy": "2025-07-12T05:37:47.100632Z",
     "iopub.status.idle": "2025-07-12T05:37:47.106228Z",
     "shell.execute_reply": "2025-07-12T05:37:47.105450Z",
     "shell.execute_reply.started": "2025-07-12T05:37:47.100889Z"
    }
   },
   "outputs": [],
   "source": [
    "#sns.catplot(x='DamsQuality',y='FloodProbability',data=df, kind='point')"
   ]
  },
  {
   "cell_type": "code",
   "execution_count": 56,
   "metadata": {
    "execution": {
     "iopub.execute_input": "2025-07-12T05:37:47.108358Z",
     "iopub.status.busy": "2025-07-12T05:37:47.107601Z",
     "iopub.status.idle": "2025-07-12T05:37:47.115438Z",
     "shell.execute_reply": "2025-07-12T05:37:47.114736Z",
     "shell.execute_reply.started": "2025-07-12T05:37:47.108328Z"
    }
   },
   "outputs": [],
   "source": [
    "#sns.catplot(x='Siltation',y='FloodProbability',data=df, kind='point')"
   ]
  },
  {
   "cell_type": "code",
   "execution_count": 57,
   "metadata": {
    "execution": {
     "iopub.execute_input": "2025-07-12T05:37:47.116598Z",
     "iopub.status.busy": "2025-07-12T05:37:47.116378Z",
     "iopub.status.idle": "2025-07-12T05:37:47.123789Z",
     "shell.execute_reply": "2025-07-12T05:37:47.123026Z",
     "shell.execute_reply.started": "2025-07-12T05:37:47.116581Z"
    }
   },
   "outputs": [],
   "source": [
    "#sns.catplot(x='AgriculturalPractices',y='FloodProbability',data=df, kind='point')"
   ]
  },
  {
   "cell_type": "code",
   "execution_count": 58,
   "metadata": {
    "execution": {
     "iopub.execute_input": "2025-07-12T05:37:47.125002Z",
     "iopub.status.busy": "2025-07-12T05:37:47.124768Z",
     "iopub.status.idle": "2025-07-12T05:37:47.130817Z",
     "shell.execute_reply": "2025-07-12T05:37:47.130106Z",
     "shell.execute_reply.started": "2025-07-12T05:37:47.124978Z"
    }
   },
   "outputs": [],
   "source": [
    "#sns.catplot(x='Encroachments',y='FloodProbability',data=df, kind='point')"
   ]
  },
  {
   "cell_type": "code",
   "execution_count": 59,
   "metadata": {
    "execution": {
     "iopub.execute_input": "2025-07-12T05:37:47.132269Z",
     "iopub.status.busy": "2025-07-12T05:37:47.131977Z",
     "iopub.status.idle": "2025-07-12T05:37:47.138579Z",
     "shell.execute_reply": "2025-07-12T05:37:47.137778Z",
     "shell.execute_reply.started": "2025-07-12T05:37:47.132225Z"
    }
   },
   "outputs": [],
   "source": [
    "#sns.catplot(x='IneffectiveDisasterPreparedness',y='FloodProbability',data=df, kind='point')"
   ]
  },
  {
   "cell_type": "code",
   "execution_count": 60,
   "metadata": {
    "execution": {
     "iopub.execute_input": "2025-07-12T05:37:47.139758Z",
     "iopub.status.busy": "2025-07-12T05:37:47.139536Z",
     "iopub.status.idle": "2025-07-12T05:37:47.149130Z",
     "shell.execute_reply": "2025-07-12T05:37:47.148369Z",
     "shell.execute_reply.started": "2025-07-12T05:37:47.139740Z"
    }
   },
   "outputs": [],
   "source": [
    "#sns.catplot(x='DrainageSystems',y='FloodProbability',data=df, kind='point')"
   ]
  },
  {
   "cell_type": "code",
   "execution_count": 61,
   "metadata": {
    "execution": {
     "iopub.execute_input": "2025-07-12T05:37:47.150212Z",
     "iopub.status.busy": "2025-07-12T05:37:47.149990Z",
     "iopub.status.idle": "2025-07-12T05:37:47.157299Z",
     "shell.execute_reply": "2025-07-12T05:37:47.156645Z",
     "shell.execute_reply.started": "2025-07-12T05:37:47.150193Z"
    }
   },
   "outputs": [],
   "source": [
    "#sns.catplot(x='CoastalVulnerability',y='FloodProbability',data=df, kind='point')"
   ]
  },
  {
   "cell_type": "code",
   "execution_count": 62,
   "metadata": {
    "execution": {
     "iopub.execute_input": "2025-07-12T05:37:47.158639Z",
     "iopub.status.busy": "2025-07-12T05:37:47.158273Z",
     "iopub.status.idle": "2025-07-12T05:37:47.166960Z",
     "shell.execute_reply": "2025-07-12T05:37:47.166203Z",
     "shell.execute_reply.started": "2025-07-12T05:37:47.158605Z"
    }
   },
   "outputs": [],
   "source": [
    "#sns.catplot(x='Landslides',y='FloodProbability',data=df, kind='point')"
   ]
  },
  {
   "cell_type": "code",
   "execution_count": 63,
   "metadata": {
    "execution": {
     "iopub.execute_input": "2025-07-12T05:37:47.168375Z",
     "iopub.status.busy": "2025-07-12T05:37:47.167975Z",
     "iopub.status.idle": "2025-07-12T05:37:47.175610Z",
     "shell.execute_reply": "2025-07-12T05:37:47.174912Z",
     "shell.execute_reply.started": "2025-07-12T05:37:47.168331Z"
    }
   },
   "outputs": [],
   "source": [
    "#sns.catplot(x='Watersheds',y='FloodProbability',data=df, kind='point')"
   ]
  },
  {
   "cell_type": "code",
   "execution_count": 64,
   "metadata": {
    "execution": {
     "iopub.execute_input": "2025-07-12T05:37:47.177348Z",
     "iopub.status.busy": "2025-07-12T05:37:47.176730Z",
     "iopub.status.idle": "2025-07-12T05:37:47.183470Z",
     "shell.execute_reply": "2025-07-12T05:37:47.182751Z",
     "shell.execute_reply.started": "2025-07-12T05:37:47.177311Z"
    }
   },
   "outputs": [],
   "source": [
    "#sns.catplot(x='DeterioratingInfrastructure',y='FloodProbability',data=df, kind='point')"
   ]
  },
  {
   "cell_type": "code",
   "execution_count": 65,
   "metadata": {
    "execution": {
     "iopub.execute_input": "2025-07-12T05:37:47.187273Z",
     "iopub.status.busy": "2025-07-12T05:37:47.186996Z",
     "iopub.status.idle": "2025-07-12T05:37:47.191900Z",
     "shell.execute_reply": "2025-07-12T05:37:47.191100Z",
     "shell.execute_reply.started": "2025-07-12T05:37:47.187230Z"
    }
   },
   "outputs": [],
   "source": [
    "#sns.catplot(x='PopulationScore',y='FloodProbability',data=df, kind='point')"
   ]
  },
  {
   "cell_type": "code",
   "execution_count": 66,
   "metadata": {
    "execution": {
     "iopub.execute_input": "2025-07-12T05:37:47.193184Z",
     "iopub.status.busy": "2025-07-12T05:37:47.192956Z",
     "iopub.status.idle": "2025-07-12T05:37:47.199339Z",
     "shell.execute_reply": "2025-07-12T05:37:47.198433Z",
     "shell.execute_reply.started": "2025-07-12T05:37:47.193166Z"
    }
   },
   "outputs": [],
   "source": [
    "#sns.catplot(x='WetlandLoss',y='FloodProbability',data=df, kind='point')"
   ]
  },
  {
   "cell_type": "code",
   "execution_count": 67,
   "metadata": {
    "execution": {
     "iopub.execute_input": "2025-07-12T05:37:47.201513Z",
     "iopub.status.busy": "2025-07-12T05:37:47.200644Z",
     "iopub.status.idle": "2025-07-12T05:37:47.211062Z",
     "shell.execute_reply": "2025-07-12T05:37:47.210164Z",
     "shell.execute_reply.started": "2025-07-12T05:37:47.201476Z"
    }
   },
   "outputs": [],
   "source": [
    "#sns.catplot(x='InadequatePlanning',y='FloodProbability',data=df, kind='point')"
   ]
  },
  {
   "cell_type": "code",
   "execution_count": 68,
   "metadata": {
    "execution": {
     "iopub.execute_input": "2025-07-12T05:37:47.212343Z",
     "iopub.status.busy": "2025-07-12T05:37:47.212062Z",
     "iopub.status.idle": "2025-07-12T05:37:47.218096Z",
     "shell.execute_reply": "2025-07-12T05:37:47.217383Z",
     "shell.execute_reply.started": "2025-07-12T05:37:47.212323Z"
    }
   },
   "outputs": [],
   "source": [
    "#sns.catplot(x='PoliticalFactors',y='FloodProbability',data=df, kind='point')"
   ]
  },
  {
   "cell_type": "code",
   "execution_count": 69,
   "metadata": {
    "execution": {
     "iopub.execute_input": "2025-07-12T05:37:47.219593Z",
     "iopub.status.busy": "2025-07-12T05:37:47.219172Z",
     "iopub.status.idle": "2025-07-12T05:37:47.312070Z",
     "shell.execute_reply": "2025-07-12T05:37:47.311423Z",
     "shell.execute_reply.started": "2025-07-12T05:37:47.219557Z"
    }
   },
   "outputs": [],
   "source": [
    "target=df['FloodProbability']\n",
    "features=df.drop(['id','FloodProbability'],axis=1)\n",
    "features_test=test_df.drop(['id'], axis=1)"
   ]
  },
  {
   "cell_type": "code",
   "execution_count": 70,
   "metadata": {
    "execution": {
     "iopub.execute_input": "2025-07-12T05:37:47.313500Z",
     "iopub.status.busy": "2025-07-12T05:37:47.313143Z",
     "iopub.status.idle": "2025-07-12T05:37:47.980875Z",
     "shell.execute_reply": "2025-07-12T05:37:47.980177Z",
     "shell.execute_reply.started": "2025-07-12T05:37:47.313476Z"
    }
   },
   "outputs": [],
   "source": [
    "import pandas as pd\n",
    "import numpy as np\n",
    "\n",
    "# Define the threshold\n",
    "threshold = 11\n",
    "\n",
    "# Function to apply segmented transformations\n",
    "def segmented_transform(feature, threshold):\n",
    "    linear_segment = np.where(feature < threshold, feature, 0)\n",
    "    nonlinear_segment = np.where(feature >= threshold, feature, 0)\n",
    "     \n",
    "    transformed_feature = linear_segment + 0.5 * nonlinear_segment**2 + 0.5 * nonlinear_segment**3\n",
    "\n",
    "    return transformed_feature\n",
    "\n",
    "# Apply the transformation to each feature in the DataFrame\n",
    "for col in features.columns:\n",
    "    features[col] = segmented_transform(features[col], threshold)\n",
    "    \n",
    "for col in features_test.columns:\n",
    "    features_test[col] = segmented_transform(features_test[col], threshold)"
   ]
  },
  {
   "cell_type": "code",
   "execution_count": 71,
   "metadata": {
    "execution": {
     "iopub.execute_input": "2025-07-12T05:37:47.982433Z",
     "iopub.status.busy": "2025-07-12T05:37:47.981992Z",
     "iopub.status.idle": "2025-07-12T05:38:12.414572Z",
     "shell.execute_reply": "2025-07-12T05:38:12.412829Z",
     "shell.execute_reply.started": "2025-07-12T05:37:47.982399Z"
    }
   },
   "outputs": [
    {
     "name": "stdout",
     "output_type": "stream",
     "text": [
      "r2 score : 0.8471720566869892\n"
     ]
    }
   ],
   "source": [
    "from sklearn.linear_model import LinearRegression\n",
    "from sklearn.model_selection import train_test_split\n",
    "from sklearn.preprocessing import SplineTransformer\n",
    "from sklearn.pipeline import make_pipeline\n",
    "from sklearn.metrics import r2_score\n",
    "\n",
    "# Creating a Spline Transformer\n",
    "spline_transformer = SplineTransformer(n_knots=6, degree=6, knots='uniform',include_bias=False)\n",
    "\n",
    "# Creating a pipeline with linear regression\n",
    "pipeline = make_pipeline(spline_transformer, LinearRegression())\n",
    "\n",
    "# Splitting the data\n",
    "X_train, X_test, y_train, y_test = train_test_split(features, target, test_size=0.2, random_state=73)\n",
    "\n",
    "# Fitting the model\n",
    "pipeline.fit(X_train, y_train)\n",
    "\n",
    "# Predicting\n",
    "y_pred = pipeline.predict(X_test)\n",
    "\n",
    "# Evaluating the model\n",
    "r2score = r2_score(y_test, y_pred)\n",
    "print(f\"r2 score : {r2score}\")"
   ]
  },
  {
   "cell_type": "code",
   "execution_count": 72,
   "metadata": {
    "execution": {
     "iopub.execute_input": "2025-07-12T05:38:12.416799Z",
     "iopub.status.busy": "2025-07-12T05:38:12.415867Z",
     "iopub.status.idle": "2025-07-12T05:38:18.504419Z",
     "shell.execute_reply": "2025-07-12T05:38:18.502663Z",
     "shell.execute_reply.started": "2025-07-12T05:38:12.416762Z"
    }
   },
   "outputs": [
    {
     "name": "stdout",
     "output_type": "stream",
     "text": [
      "[0.57377978 0.45536489 0.45432174 ... 0.62434303 0.55111327 0.51180148]\n"
     ]
    }
   ],
   "source": [
    "y_pred_test=pipeline.predict(features_test)\n",
    "print(y_pred_test)"
   ]
  },
  {
   "cell_type": "code",
   "execution_count": 73,
   "metadata": {
    "execution": {
     "iopub.execute_input": "2025-07-12T05:38:18.506659Z",
     "iopub.status.busy": "2025-07-12T05:38:18.505958Z",
     "iopub.status.idle": "2025-07-12T05:38:19.615171Z",
     "shell.execute_reply": "2025-07-12T05:38:19.614392Z",
     "shell.execute_reply.started": "2025-07-12T05:38:18.506621Z"
    }
   },
   "outputs": [
    {
     "name": "stdout",
     "output_type": "stream",
     "text": [
      "Submission file created successfully.\n"
     ]
    }
   ],
   "source": [
    "submission_df = pd.DataFrame({\n",
    "    'id': test_df['id'],\n",
    "    'FloodProbability': y_pred_test\n",
    "})\n",
    "\n",
    "# Save the submission DataFrame to a CSV file\n",
    "submission_df.to_csv('./output/submission.csv', index=False)\n",
    "\n",
    "print(\"Submission file created successfully.\")"
   ]
  },
  {
   "cell_type": "code",
   "execution_count": 74,
   "metadata": {
    "execution": {
     "iopub.execute_input": "2025-07-12T05:38:19.616618Z",
     "iopub.status.busy": "2025-07-12T05:38:19.616351Z",
     "iopub.status.idle": "2025-07-12T05:38:19.784645Z",
     "shell.execute_reply": "2025-07-12T05:38:19.783759Z",
     "shell.execute_reply.started": "2025-07-12T05:38:19.616599Z"
    }
   },
   "outputs": [
    {
     "data": {
      "text/html": [
       "<div>\n",
       "<style scoped>\n",
       "    .dataframe tbody tr th:only-of-type {\n",
       "        vertical-align: middle;\n",
       "    }\n",
       "\n",
       "    .dataframe tbody tr th {\n",
       "        vertical-align: top;\n",
       "    }\n",
       "\n",
       "    .dataframe thead th {\n",
       "        text-align: right;\n",
       "    }\n",
       "</style>\n",
       "<table border=\"1\" class=\"dataframe\">\n",
       "  <thead>\n",
       "    <tr style=\"text-align: right;\">\n",
       "      <th></th>\n",
       "      <th>id</th>\n",
       "      <th>FloodProbability</th>\n",
       "    </tr>\n",
       "  </thead>\n",
       "  <tbody>\n",
       "    <tr>\n",
       "      <th>0</th>\n",
       "      <td>1117957</td>\n",
       "      <td>0.573780</td>\n",
       "    </tr>\n",
       "    <tr>\n",
       "      <th>1</th>\n",
       "      <td>1117958</td>\n",
       "      <td>0.455365</td>\n",
       "    </tr>\n",
       "    <tr>\n",
       "      <th>2</th>\n",
       "      <td>1117959</td>\n",
       "      <td>0.454322</td>\n",
       "    </tr>\n",
       "    <tr>\n",
       "      <th>3</th>\n",
       "      <td>1117960</td>\n",
       "      <td>0.466101</td>\n",
       "    </tr>\n",
       "    <tr>\n",
       "      <th>4</th>\n",
       "      <td>1117961</td>\n",
       "      <td>0.466325</td>\n",
       "    </tr>\n",
       "    <tr>\n",
       "      <th>...</th>\n",
       "      <td>...</td>\n",
       "      <td>...</td>\n",
       "    </tr>\n",
       "    <tr>\n",
       "      <th>745300</th>\n",
       "      <td>1863257</td>\n",
       "      <td>0.477451</td>\n",
       "    </tr>\n",
       "    <tr>\n",
       "      <th>745301</th>\n",
       "      <td>1863258</td>\n",
       "      <td>0.449815</td>\n",
       "    </tr>\n",
       "    <tr>\n",
       "      <th>745302</th>\n",
       "      <td>1863259</td>\n",
       "      <td>0.624343</td>\n",
       "    </tr>\n",
       "    <tr>\n",
       "      <th>745303</th>\n",
       "      <td>1863260</td>\n",
       "      <td>0.551113</td>\n",
       "    </tr>\n",
       "    <tr>\n",
       "      <th>745304</th>\n",
       "      <td>1863261</td>\n",
       "      <td>0.511801</td>\n",
       "    </tr>\n",
       "  </tbody>\n",
       "</table>\n",
       "<p>745305 rows × 2 columns</p>\n",
       "</div>"
      ],
      "text/plain": [
       "             id  FloodProbability\n",
       "0       1117957          0.573780\n",
       "1       1117958          0.455365\n",
       "2       1117959          0.454322\n",
       "3       1117960          0.466101\n",
       "4       1117961          0.466325\n",
       "...         ...               ...\n",
       "745300  1863257          0.477451\n",
       "745301  1863258          0.449815\n",
       "745302  1863259          0.624343\n",
       "745303  1863260          0.551113\n",
       "745304  1863261          0.511801\n",
       "\n",
       "[745305 rows x 2 columns]"
      ]
     },
     "execution_count": 74,
     "metadata": {},
     "output_type": "execute_result"
    }
   ],
   "source": [
    "pd.read_csv('./output/submission.csv')"
   ]
  }
 ],
 "metadata": {
  "kaggle": {
   "accelerator": "none",
   "dataSources": [
    {
     "databundleVersionId": 8121328,
     "sourceId": 73278,
     "sourceType": "competition"
    }
   ],
   "dockerImageVersionId": 30698,
   "isGpuEnabled": false,
   "isInternetEnabled": true,
   "language": "python",
   "sourceType": "notebook"
  },
  "kernelspec": {
   "display_name": "Python 3 (ipykernel)",
   "language": "python",
   "name": "python3"
  },
  "language_info": {
   "codemirror_mode": {
    "name": "ipython",
    "version": 3
   },
   "file_extension": ".py",
   "mimetype": "text/x-python",
   "name": "python",
   "nbconvert_exporter": "python",
   "pygments_lexer": "ipython3",
   "version": "3.12.8"
  }
 },
 "nbformat": 4,
 "nbformat_minor": 4
}
