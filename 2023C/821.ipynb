{
 "cells": [
  {
   "cell_type": "markdown",
   "id": "9474d534",
   "metadata": {},
   "source": [
    "# Q1"
   ]
  },
  {
   "cell_type": "code",
   "execution_count": null,
   "id": "e507ce02",
   "metadata": {},
   "outputs": [
    {
     "name": "stdout",
     "output_type": "stream",
     "text": [
      "              单品编码    单品名称        分类编码 分类名称  损耗率(%)\n",
      "0  102900005115168    牛首生菜  1011010101  花叶类    4.39\n",
      "1  102900005115199   四川红香椿  1011010101  花叶类   10.46\n",
      "2  102900005115625  本地小毛白菜  1011010101  花叶类    0.18\n",
      "3  102900005115748     白菜苔  1011010101  花叶类    8.78\n",
      "4  102900005115762      苋菜  1011010101  花叶类   18.52\n"
     ]
    }
   ],
   "source": [
    "# 0.0 数据预处理\n",
    "import pandas as pd\n",
    "# 读取附件 1 和附件 4\n",
    "df1 = pd.read_excel('附件1.xlsx', sheet_name='Sheet1', engine='openpyxl')\n",
    "df4 = pd.read_excel('附件4.xlsx', sheet_name='Sheet1', engine='openpyxl')\n",
    "\n",
    "# 合并损耗率，按单品编码一一对应\n",
    "df1 = df1.merge(df4[['单品编码', '损耗率(%)']], on='单品编码', how='left')\n",
    "\n",
    "# 检查合并结果\n",
    "print(df1.head())\n",
    "df1.to_excel('附件1-4.xlsx', index=False)\n",
    "\n"
   ]
  },
  {
   "cell_type": "code",
   "execution_count": null,
   "id": "27674c78",
   "metadata": {},
   "outputs": [],
   "source": [
    "# 1.1 分布规律体现与统计学数据描述\n"
   ]
  }
 ],
 "metadata": {
  "kernelspec": {
   "display_name": "modeling",
   "language": "python",
   "name": "python3"
  },
  "language_info": {
   "codemirror_mode": {
    "name": "ipython",
    "version": 3
   },
   "file_extension": ".py",
   "mimetype": "text/x-python",
   "name": "python",
   "nbconvert_exporter": "python",
   "pygments_lexer": "ipython3",
   "version": "3.10.18"
  }
 },
 "nbformat": 4,
 "nbformat_minor": 5
}
